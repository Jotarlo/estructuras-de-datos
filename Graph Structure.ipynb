{
 "cells": [
  {
   "cell_type": "code",
   "execution_count": 102,
   "metadata": {},
   "outputs": [],
   "source": [
    "class Vertex:\n",
    "    def __init__(self, label):\n",
    "        self.label = label;\n",
    "        self.linkedTo = {};\n",
    "        \n",
    "    def addAdjacentVertex(self, adjacentVertex, weight):\n",
    "        self.linkedTo[adjacentVertex] = weight;\n",
    "        #adjacentVertex.linkedTo[adjacentVertex.getLabel()] = weight\n",
    "        \n",
    "    def getConnections(self):\n",
    "        return self.linkedTo;\n",
    "    \n",
    "    def getLabel(self):\n",
    "        return self.label;\n",
    "    \n",
    "    def getWeight(self, adjacentVertex):\n",
    "        return self.linkedTo[adjacentVertex];\n",
    "    "
   ]
  },
  {
   "cell_type": "code",
   "execution_count": 103,
   "metadata": {},
   "outputs": [],
   "source": [
    "class Graph:\n",
    "    def __init__(self):\n",
    "        self.vertexSet = {}\n",
    "    \n",
    "    def addVertex(self, label):\n",
    "        newVertex = Vertex(label);\n",
    "        self.vertexSet[label] = newVertex;\n",
    "        return newVertex;\n",
    "    \n",
    "    def getVertex(self, label):\n",
    "        if self.exists(label):\n",
    "            return self.vertexSet[label];\n",
    "        return None\n",
    "    \n",
    "    def exists(self, label):\n",
    "        return label in self.vertexSet;\n",
    "    \n",
    "    def addEdge(self, vertexFrom, vertexTo, weight = 0):\n",
    "        if not self.exists(vertexFrom):\n",
    "            self.addVertex(vertexFrom);\n",
    "        if not self.exists(vertexTo):\n",
    "            self.addVertex(vertexTo);\n",
    "        self.vertexSet[vertexFrom].addAdjacentVertex(self.vertexSet[vertexTo], weight);\n",
    "    \n",
    "    def getVertexes(self):\n",
    "        return self.vertexSet.keys();\n",
    "    \n",
    "    def getVertexLabels(self):\n",
    "        return iter(self.vertexSet.values())\n",
    "        "
   ]
  },
  {
   "cell_type": "code",
   "execution_count": 105,
   "metadata": {
    "scrolled": true
   },
   "outputs": [
    {
     "name": "stdout",
     "output_type": "stream",
     "text": [
      "-----------------------\n",
      "6 vertexes were added to the graph\n",
      "-----------------------\n",
      "Edges between vertexes\n",
      "-----------------------\n",
      "0 - 1 - 2\n",
      "0 - 5 - 6\n",
      "1 - 3 - 3\n",
      "1 - 0 - 2\n",
      "1 - 4 - 4\n",
      "2 - 3 - 7\n",
      "2 - 4 - 10\n",
      "3 - 2 - 4\n",
      "5 - 0 - 7\n"
     ]
    }
   ],
   "source": [
    "g = Graph();\n",
    "for i in range(6):\n",
    "    g.addVertex(i);\n",
    "\n",
    "\n",
    "print('-----------------------');\n",
    "\n",
    "g.addEdge(0, 1, 2);\n",
    "g.addEdge(0, 5, 6);\n",
    "g.addEdge(1, 3, 3);\n",
    "g.addEdge(2, 3, 7);\n",
    "g.addEdge(2, 4, 10);\n",
    "g.addEdge(1, 0, 2);\n",
    "g.addEdge(5, 0, 7);\n",
    "g.addEdge(3, 2, 4);\n",
    "g.addEdge(1, 4, 4);\n",
    "\n",
    "print(str(len(g.vertexSet)) + \" vertexes were added to the graph\");\n",
    "\n",
    "print('-----------------------');\n",
    "\n",
    "print(\"Edges between vertexes\");\n",
    "\n",
    "print('-----------------------');\n",
    "\n",
    "for originLabel, originVertex in g.vertexSet.items():\n",
    "    for destinationVertex, weight in originVertex.getConnections().items():\n",
    "        print(str(originLabel) + \" - \" + str(destinationVertex.getLabel()) + \" - \" + str(weight))"
   ]
  },
  {
   "cell_type": "code",
   "execution_count": null,
   "metadata": {},
   "outputs": [],
   "source": []
  }
 ],
 "metadata": {
  "kernelspec": {
   "display_name": "Python 3",
   "language": "python",
   "name": "python3"
  },
  "language_info": {
   "codemirror_mode": {
    "name": "ipython",
    "version": 3
   },
   "file_extension": ".py",
   "mimetype": "text/x-python",
   "name": "python",
   "nbconvert_exporter": "python",
   "pygments_lexer": "ipython3",
   "version": "3.7.3"
  }
 },
 "nbformat": 4,
 "nbformat_minor": 2
}
