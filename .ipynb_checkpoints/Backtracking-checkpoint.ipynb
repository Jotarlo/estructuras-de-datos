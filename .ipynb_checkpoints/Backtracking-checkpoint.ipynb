{
 "cells": [
  {
   "cell_type": "markdown",
   "metadata": {},
   "source": [
    "# Recursión con Backtracking (Vuelta atrás)\n",
    "\n",
    "Este algoritmo Permite evaluar las diferentes opciones que se tienen para resolver un problema dado, y garantiza una solución siempre y cuando exista la posibilidad.\n",
    "\n",
    "Este algoritmo toma una a una cada posibilidad y la evalúa, siguiendo las diferentes ramas que se pueden generar después de cada estado del problema, cuando elige uno incorrecto se regresa al estado anterior y verifica la siguiente opción. Un caso típico es un laberinto, el cual puede tener varias opciones de camino a seguir, tomando una de las opciones y siguiendo hasta encontrar un camino sin salida (lo que genera que se regrese hasta el estado anterior) o la salida."
   ]
  },
  {
   "cell_type": "code",
   "execution_count": 58,
   "metadata": {},
   "outputs": [
    {
     "name": "stdout",
     "output_type": "stream",
     "text": [
      "[0, 0, 1, 0]\n",
      "[1, 0, 0, 0]\n",
      "[0, 0, 0, 1]\n",
      "[0, 1, 0, 0]\n"
     ]
    }
   ],
   "source": [
    "# Python program to solve N Queen  \n",
    "# Problem using recursive backtracking \n",
    "  \n",
    "global matrixSize # number of positions in matrix (N x N)\n",
    "matrixSize = 4  \n",
    "   \n",
    "def isQueenSafe(board, row, col): \n",
    "  \n",
    "    # Check if there is a queen in this row  \n",
    "    for i in range(col): \n",
    "        if board[row][i] == 1: # only the value of a position is 1 when there is a queen.\n",
    "            return False # when exists a queen in the same row then return false\n",
    "  \n",
    "    # Check upper diagonal on left side (because the right side are not queens yet)\n",
    "    # Do you have a doubt about how zip works? please review https://docs.python.org/3/library/functions.html#zip\n",
    "    # I had write an example of zip functionallity in the next cell of this notebook\n",
    "    for i,j in zip(range(row,-1,-1), range(col,-1,-1)): \n",
    "        if board[i][j] == 1: \n",
    "            return False\n",
    "  \n",
    "    # Check lower diagonal on left side (because the right side are not queens yet)\n",
    "    for i,j in zip(range(row,matrixSize,1), range(col,-1,-1)): \n",
    "        if board[i][j] == 1: \n",
    "            return False\n",
    "  \n",
    "    return True\n",
    "  \n",
    "def solveNQRecursiveBacktracking(board, col): \n",
    "    # base case: If all queens are placed \n",
    "    # then return true \n",
    "    if col >= matrixSize: \n",
    "        return True\n",
    "  \n",
    "    # Consider this column and try placing \n",
    "    # this queen in all rows one by one \n",
    "    for i in range(matrixSize): \n",
    "  \n",
    "        if isQueenSafe(board, i, col): \n",
    "            # Place this queen in board position [i][col] \n",
    "            board[i][col] = 1\n",
    "  \n",
    "            # set the queen in the rest of places\n",
    "            if solveNQRecursiveBacktracking(board, col + 1) == True: \n",
    "                return True\n",
    "  \n",
    "            # If placing queen in board[i][col \n",
    "            # doesn't lead to a solution, then \n",
    "            # queen from board[i][col] \n",
    "            board[i][col] = 0\n",
    "  \n",
    "    # if the queen can not be placed in any row in \n",
    "    # this colum col  then return false \n",
    "    return False\n",
    "  \n",
    "# This function start the process to solve the N Queen problem using Recursive Backtracking.  \n",
    "def solveNQ(): \n",
    "    board = [[0 for i in range(matrixSize)] for j in range(matrixSize)]\n",
    "  \n",
    "    if not solveNQRecursiveBacktracking(board, 0): \n",
    "        print(\"Solution does not exist!\")\n",
    "    else:\n",
    "        for i in range(matrixSize): \n",
    "            print (board[i])\n",
    "  \n",
    "# test the function \n",
    "solveNQ() \n",
    "  "
   ]
  },
  {
   "cell_type": "code",
   "execution_count": 50,
   "metadata": {},
   "outputs": [
    {
     "name": "stdout",
     "output_type": "stream",
     "text": [
      "Lower Diagonal\n",
      "[(1, 3), (2, 2), (3, 1)]\n",
      "\n",
      "---------------\n",
      "\n",
      "Upper Diagonal\n",
      "[(1, 3), (0, 2)]\n"
     ]
    }
   ],
   "source": [
    "# This is the zip example... :-)\n",
    "\n",
    "# We can imagine a matrix 4x4 where 1 is a queen and 0 is an empty space as below\n",
    "\n",
    "#  0 0 1 0   when we validate the positions of (1, 3), there are two errors...\n",
    "#  1 0 0 1   1. There is a queen in the same row (1, 0). \n",
    "#  0 0 0 0   2. The lower-left diagonal shows a queen at (3, 1). That is one of the coordenates in zip(...) \n",
    "#  0 1 0 0\n",
    "\n",
    "\n",
    "# the range function can be receive two or three parameters\n",
    "# range(start, stop[, step])\n",
    "\n",
    "print(\"Lower Diagonal\")\n",
    "# This line generates the coordenates for the lower diagonal from (1, 3) til the left edge\n",
    "print(list(zip(range(1,matrixSize,1), range(3,-1,-1))))\n",
    "\n",
    "print(\"\\n---------------\\n\")\n",
    "\n",
    "print(\"Upper Diagonal\")\n",
    "# This line generates the coordenates for the upper diagonal from (3, 4) til the left edge\n",
    "print(list(zip(range(1,-1,-1), range(3,-1,-1))))"
   ]
  },
  {
   "cell_type": "markdown",
   "metadata": {},
   "source": [
    "# Ejercicio\n",
    "\n",
    "<font color='red'>Realizar el desarrollo del cuadro mágico siguiendo la técnica de backtracking.</font>\n",
    "\n",
    "A continuación se muestra la solución con backtracking sin recursión."
   ]
  },
  {
   "cell_type": "code",
   "execution_count": 51,
   "metadata": {},
   "outputs": [
    {
     "name": "stdout",
     "output_type": "stream",
     "text": [
      "[0, 0, 0, 0, 0]\n",
      "[0, 0, 0, 0, 0]\n",
      "[0, 0, 0, 0, 0]\n",
      "[0, 0, 0, 0, 0]\n",
      "[0, 0, 0, 0, 0]\n",
      "\n",
      " ---------------------------------- \n",
      "\n",
      "[17, 24, 1, 8, 15]\n",
      "[23, 5, 7, 14, 16]\n",
      "[4, 6, 13, 20, 22]\n",
      "[10, 12, 19, 21, 3]\n",
      "[11, 18, 25, 2, 9]\n"
     ]
    }
   ],
   "source": [
    "# Ejemplo del cuadro mágico de forma backtracking tradicional sin utilizar la recursión    \n",
    "    \n",
    "def magicSquare(matrixSize):\n",
    "    if matrixSize >= 3:\n",
    "        matrix =[[0 for i in range(matrixSize)] for j in range(matrixSize)]\n",
    "        for fila in matrix:\n",
    "            print(fila)\n",
    "        row= 0;\n",
    "        col= matrixSize//2;\n",
    "        print (\"\\n ---------------------------------- \\n\")\n",
    "        for i in range(1,matrixSize**2 + 1):\n",
    "            matrix[row][col]= i;\n",
    "            brow = row+1;\n",
    "            bcol = col+1;\n",
    "            row=int((row+matrixSize-1)%matrixSize);\n",
    "            col=int((col+1)%matrixSize);\n",
    "            if matrix[row][col]!=0:\n",
    "                row=brow;\n",
    "                col=bcol-1;\n",
    "    for row in matrix:\n",
    "        print(row)\n",
    "magicSquare(5)"
   ]
  }
 ],
 "metadata": {
  "kernelspec": {
   "display_name": "Python 3",
   "language": "python",
   "name": "python3"
  },
  "language_info": {
   "codemirror_mode": {
    "name": "ipython",
    "version": 3
   },
   "file_extension": ".py",
   "mimetype": "text/x-python",
   "name": "python",
   "nbconvert_exporter": "python",
   "pygments_lexer": "ipython3",
   "version": "3.7.3"
  }
 },
 "nbformat": 4,
 "nbformat_minor": 2
}
