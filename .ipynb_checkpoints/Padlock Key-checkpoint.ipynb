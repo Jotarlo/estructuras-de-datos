{
 "cells": [
  {
   "cell_type": "markdown",
   "metadata": {},
   "source": [
    "# Problema de las claves de un candado\n",
    "\n",
    "Crear una solución para un problema de claves circulares de un candado (tipo maleta de viaje), donde se debe tener un número N de dígitos (N es par)"
   ]
  },
  {
   "cell_type": "code",
   "execution_count": 15,
   "metadata": {},
   "outputs": [
    {
     "name": "stdout",
     "output_type": "stream",
     "text": [
      "Inicio\n",
      "[1, 2, 3, 4, 7, 6, 5]\n",
      "[1, 2, 5, 6, 7, 4, 3]\n",
      "[1, 4, 3, 2, 5, 6, 7]\n",
      "[1, 4, 7, 6, 5, 2, 3]\n",
      "[1, 6, 5, 2, 3, 4, 7]\n",
      "[1, 6, 7, 4, 3, 2, 5]\n",
      "[3, 2, 1, 4, 7, 6, 5]\n",
      "[3, 2, 5, 6, 1, 4, 7]\n",
      "[3, 2, 5, 6, 7, 4, 1]\n",
      "[3, 4, 1, 2, 5, 6, 7]\n",
      "[3, 4, 7, 6, 1, 2, 5]\n",
      "[3, 4, 7, 6, 5, 2, 1]\n",
      "[5, 2, 1, 6, 7, 4, 3]\n",
      "[5, 2, 3, 4, 1, 6, 7]\n",
      "[5, 2, 3, 4, 7, 6, 1]\n",
      "[5, 6, 1, 2, 3, 4, 7]\n",
      "[5, 6, 7, 4, 1, 2, 3]\n",
      "[5, 6, 7, 4, 3, 2, 1]\n",
      "[7, 4, 1, 6, 5, 2, 3]\n",
      "[7, 4, 3, 2, 1, 6, 5]\n",
      "[7, 4, 3, 2, 5, 6, 1]\n",
      "[7, 6, 1, 4, 3, 2, 5]\n",
      "[7, 6, 5, 2, 1, 4, 3]\n",
      "[7, 6, 5, 2, 3, 4, 1]\n"
     ]
    }
   ],
   "source": [
    "# Python program to solve padlock key \n",
    "# Problem using recursive backtracking \n",
    "  \n",
    "global keySize # number of positions in key\n",
    "keySize = 7  \n",
    "\n",
    "def isCousin(num):\n",
    "    for i in range(2, num):\n",
    "        if(num % i == 0):\n",
    "            return False;\n",
    "    return True\n",
    "\n",
    "def isAvailable(boxes, pos, num):\n",
    "    for i in range(pos):\n",
    "        if(boxes[i] == num):\n",
    "            return False\n",
    "    return True\n",
    "   \n",
    "def isValidNumber(boxes, pos, num): \n",
    "    if(pos > 0):\n",
    "        return isCousin(boxes[pos - 1] + num) and isAvailable(boxes, pos, num)\n",
    "    else:\n",
    "        return True\n",
    "\n",
    "\n",
    "# this is the function with a empty board (the first time) and the column index (it starts in 0)\n",
    "def getPadlockKeys(boxes, currentPosition): \n",
    "    if(currentPosition >= keySize):\n",
    "        print(boxes)\n",
    "        return True\n",
    "\n",
    "    for i in range(1, (keySize + 1)):\n",
    "        if(isValidNumber(boxes, currentPosition, i)):\n",
    "            boxes[currentPosition] = i\n",
    "            getPadlockKeys(boxes, currentPosition + 1)\n",
    "                \n",
    "\n",
    "# This function start the process to solve the padlock key problem using Recursive Backtracking.  \n",
    "def solvePadlockKey(): \n",
    "    boxes = [0 for i in range(0, keySize)]\n",
    "    #print(boxes)\n",
    "    print(\"Inicio\")\n",
    "    getPadlockKeys(boxes, 0)\n",
    "    print(\"Fin\")\n",
    "\n",
    "# test the function \n",
    "solvePadlockKey() "
   ]
  },
  {
   "cell_type": "code",
   "execution_count": null,
   "metadata": {},
   "outputs": [],
   "source": []
  }
 ],
 "metadata": {
  "kernelspec": {
   "display_name": "Python 3",
   "language": "python",
   "name": "python3"
  },
  "language_info": {
   "codemirror_mode": {
    "name": "ipython",
    "version": 3
   },
   "file_extension": ".py",
   "mimetype": "text/x-python",
   "name": "python",
   "nbconvert_exporter": "python",
   "pygments_lexer": "ipython3",
   "version": "3.7.1"
  }
 },
 "nbformat": 4,
 "nbformat_minor": 2
}
